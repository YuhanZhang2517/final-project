{
 "cells": [
  {
   "cell_type": "code",
   "execution_count": 1,
   "id": "8c3fbe7f",
   "metadata": {},
   "outputs": [
    {
     "name": "stderr",
     "output_type": "stream",
     "text": [
      "/Users/jiandanqingche/opt/anaconda3/envs/keras/lib/python3.9/site-packages/xgboost/compat.py:36: FutureWarning: pandas.Int64Index is deprecated and will be removed from pandas in a future version. Use pandas.Index with the appropriate dtype instead.\n",
      "  from pandas import MultiIndex, Int64Index\n"
     ]
    }
   ],
   "source": [
    "import os\n",
    "import numpy as np\n",
    "import pandas as pd\n",
    "import xgboost as xgb\n",
    "from sklearn.model_selection import train_test_split\n",
    "from sklearn.metrics import mean_squared_error\n",
    "import matplotlib.pyplot as plt\n",
    "from sklearn.metrics import r2_score\n",
    "from sklearn import metrics\n",
    "import seaborn as sns"
   ]
  },
  {
   "cell_type": "code",
   "execution_count": 2,
   "id": "33836ab3",
   "metadata": {},
   "outputs": [
    {
     "data": {
      "text/html": [
       "<div>\n",
       "<style scoped>\n",
       "    .dataframe tbody tr th:only-of-type {\n",
       "        vertical-align: middle;\n",
       "    }\n",
       "\n",
       "    .dataframe tbody tr th {\n",
       "        vertical-align: top;\n",
       "    }\n",
       "\n",
       "    .dataframe thead th {\n",
       "        text-align: right;\n",
       "    }\n",
       "</style>\n",
       "<table border=\"1\" class=\"dataframe\">\n",
       "  <thead>\n",
       "    <tr style=\"text-align: right;\">\n",
       "      <th></th>\n",
       "      <th>YEAR</th>\n",
       "      <th>MO</th>\n",
       "      <th>DY</th>\n",
       "      <th>T2M</th>\n",
       "      <th>TS</th>\n",
       "      <th>PRECTOTCORR</th>\n",
       "      <th>PS</th>\n",
       "      <th>ALLSKY_SFC_SW_DWN</th>\n",
       "      <th>CLRSKY_SFC_SW_DWN</th>\n",
       "      <th>ALLSKY_KT</th>\n",
       "      <th>ALLSKY_SFC_LW_DWN</th>\n",
       "      <th>ALLSKY_SFC_PAR_TOT</th>\n",
       "      <th>CLRSKY_SFC_PAR_TOT</th>\n",
       "      <th>ALLSKY_SFC_UVA</th>\n",
       "      <th>ALLSKY_SFC_UVB</th>\n",
       "      <th>ALLSKY_SFC_UV_INDEX</th>\n",
       "      <th>QV2M</th>\n",
       "      <th>WS10M</th>\n",
       "      <th>WS50M</th>\n",
       "    </tr>\n",
       "  </thead>\n",
       "  <tbody>\n",
       "    <tr>\n",
       "      <th>0</th>\n",
       "      <td>2001</td>\n",
       "      <td>1</td>\n",
       "      <td>1</td>\n",
       "      <td>9.97</td>\n",
       "      <td>10.75</td>\n",
       "      <td>0.10</td>\n",
       "      <td>74.62</td>\n",
       "      <td>3.45</td>\n",
       "      <td>4.94</td>\n",
       "      <td>0.48</td>\n",
       "      <td>304.13</td>\n",
       "      <td>61.42</td>\n",
       "      <td>86.69</td>\n",
       "      <td>8.47</td>\n",
       "      <td>0.22</td>\n",
       "      <td>1.15</td>\n",
       "      <td>7.75</td>\n",
       "      <td>1.17</td>\n",
       "      <td>1.69</td>\n",
       "    </tr>\n",
       "    <tr>\n",
       "      <th>1</th>\n",
       "      <td>2001</td>\n",
       "      <td>1</td>\n",
       "      <td>2</td>\n",
       "      <td>10.38</td>\n",
       "      <td>11.13</td>\n",
       "      <td>0.06</td>\n",
       "      <td>74.77</td>\n",
       "      <td>4.02</td>\n",
       "      <td>5.03</td>\n",
       "      <td>0.55</td>\n",
       "      <td>304.57</td>\n",
       "      <td>71.91</td>\n",
       "      <td>89.66</td>\n",
       "      <td>9.73</td>\n",
       "      <td>0.25</td>\n",
       "      <td>1.34</td>\n",
       "      <td>7.20</td>\n",
       "      <td>1.33</td>\n",
       "      <td>1.85</td>\n",
       "    </tr>\n",
       "    <tr>\n",
       "      <th>2</th>\n",
       "      <td>2001</td>\n",
       "      <td>1</td>\n",
       "      <td>3</td>\n",
       "      <td>8.91</td>\n",
       "      <td>10.03</td>\n",
       "      <td>0.01</td>\n",
       "      <td>74.92</td>\n",
       "      <td>3.68</td>\n",
       "      <td>5.34</td>\n",
       "      <td>0.51</td>\n",
       "      <td>295.34</td>\n",
       "      <td>66.46</td>\n",
       "      <td>95.48</td>\n",
       "      <td>9.34</td>\n",
       "      <td>0.24</td>\n",
       "      <td>1.29</td>\n",
       "      <td>6.16</td>\n",
       "      <td>2.36</td>\n",
       "      <td>3.16</td>\n",
       "    </tr>\n",
       "    <tr>\n",
       "      <th>3</th>\n",
       "      <td>2001</td>\n",
       "      <td>1</td>\n",
       "      <td>4</td>\n",
       "      <td>9.73</td>\n",
       "      <td>10.58</td>\n",
       "      <td>0.00</td>\n",
       "      <td>74.82</td>\n",
       "      <td>5.16</td>\n",
       "      <td>5.18</td>\n",
       "      <td>0.71</td>\n",
       "      <td>269.09</td>\n",
       "      <td>90.52</td>\n",
       "      <td>91.53</td>\n",
       "      <td>11.73</td>\n",
       "      <td>0.27</td>\n",
       "      <td>1.37</td>\n",
       "      <td>5.98</td>\n",
       "      <td>1.78</td>\n",
       "      <td>2.64</td>\n",
       "    </tr>\n",
       "    <tr>\n",
       "      <th>4</th>\n",
       "      <td>2001</td>\n",
       "      <td>1</td>\n",
       "      <td>5</td>\n",
       "      <td>10.63</td>\n",
       "      <td>10.73</td>\n",
       "      <td>0.00</td>\n",
       "      <td>74.72</td>\n",
       "      <td>5.47</td>\n",
       "      <td>5.45</td>\n",
       "      <td>0.75</td>\n",
       "      <td>259.95</td>\n",
       "      <td>97.34</td>\n",
       "      <td>97.74</td>\n",
       "      <td>12.82</td>\n",
       "      <td>0.30</td>\n",
       "      <td>1.48</td>\n",
       "      <td>6.29</td>\n",
       "      <td>2.58</td>\n",
       "      <td>4.03</td>\n",
       "    </tr>\n",
       "  </tbody>\n",
       "</table>\n",
       "</div>"
      ],
      "text/plain": [
       "   YEAR  MO  DY    T2M     TS  PRECTOTCORR     PS  ALLSKY_SFC_SW_DWN  \\\n",
       "0  2001   1   1   9.97  10.75         0.10  74.62               3.45   \n",
       "1  2001   1   2  10.38  11.13         0.06  74.77               4.02   \n",
       "2  2001   1   3   8.91  10.03         0.01  74.92               3.68   \n",
       "3  2001   1   4   9.73  10.58         0.00  74.82               5.16   \n",
       "4  2001   1   5  10.63  10.73         0.00  74.72               5.47   \n",
       "\n",
       "   CLRSKY_SFC_SW_DWN  ALLSKY_KT  ALLSKY_SFC_LW_DWN  ALLSKY_SFC_PAR_TOT  \\\n",
       "0               4.94       0.48             304.13               61.42   \n",
       "1               5.03       0.55             304.57               71.91   \n",
       "2               5.34       0.51             295.34               66.46   \n",
       "3               5.18       0.71             269.09               90.52   \n",
       "4               5.45       0.75             259.95               97.34   \n",
       "\n",
       "   CLRSKY_SFC_PAR_TOT  ALLSKY_SFC_UVA  ALLSKY_SFC_UVB  ALLSKY_SFC_UV_INDEX  \\\n",
       "0               86.69            8.47            0.22                 1.15   \n",
       "1               89.66            9.73            0.25                 1.34   \n",
       "2               95.48            9.34            0.24                 1.29   \n",
       "3               91.53           11.73            0.27                 1.37   \n",
       "4               97.74           12.82            0.30                 1.48   \n",
       "\n",
       "   QV2M  WS10M  WS50M  \n",
       "0  7.75   1.17   1.69  \n",
       "1  7.20   1.33   1.85  \n",
       "2  6.16   2.36   3.16  \n",
       "3  5.98   1.78   2.64  \n",
       "4  6.29   2.58   4.03  "
      ]
     },
     "execution_count": 2,
     "metadata": {},
     "output_type": "execute_result"
    }
   ],
   "source": [
    "# data process\n",
    "df=pd.read_csv(\"MCC23.csv\")\n",
    "df.head()"
   ]
  },
  {
   "cell_type": "code",
   "execution_count": 3,
   "id": "9aef15db",
   "metadata": {},
   "outputs": [
    {
     "data": {
      "text/plain": [
       "YEAR                   0\n",
       "ALLSKY_SFC_LW_DWN      0\n",
       "WS10M                  0\n",
       "QV2M                   0\n",
       "ALLSKY_SFC_UV_INDEX    0\n",
       "ALLSKY_SFC_UVB         0\n",
       "ALLSKY_SFC_UVA         0\n",
       "CLRSKY_SFC_PAR_TOT     0\n",
       "ALLSKY_SFC_PAR_TOT     0\n",
       "ALLSKY_KT              0\n",
       "MO                     0\n",
       "CLRSKY_SFC_SW_DWN      0\n",
       "ALLSKY_SFC_SW_DWN      0\n",
       "PS                     0\n",
       "PRECTOTCORR            0\n",
       "TS                     0\n",
       "T2M                    0\n",
       "DY                     0\n",
       "WS50M                  0\n",
       "dtype: int64"
      ]
     },
     "execution_count": 3,
     "metadata": {},
     "output_type": "execute_result"
    }
   ],
   "source": [
    "df.isnull().sum().sort_values(ascending=False)"
   ]
  },
  {
   "cell_type": "code",
   "execution_count": 4,
   "id": "ade80504",
   "metadata": {},
   "outputs": [],
   "source": [
    "X=df[['WS50M','PS','WS10M','QV2M','TS','T2M','CLRSKY_SFC_PAR_TOT','ALLSKY_SFC_PAR_TOT','CLRSKY_SFC_SW_DWN','ALLSKY_SFC_LW_DWN','ALLSKY_SFC_SW_DWN']]\n",
    "Y=df[['PRECTOTCORR']]"
   ]
  },
  {
   "cell_type": "code",
   "execution_count": 5,
   "id": "3c44dcb8",
   "metadata": {},
   "outputs": [],
   "source": [
    "X_train, X_test,Y_train, Y_test = train_test_split(X, Y, test_size=0.4,random_state=10)"
   ]
  },
  {
   "cell_type": "code",
   "execution_count": 6,
   "id": "a66f006e",
   "metadata": {},
   "outputs": [
    {
     "data": {
      "text/html": [
       "<div>\n",
       "<style scoped>\n",
       "    .dataframe tbody tr th:only-of-type {\n",
       "        vertical-align: middle;\n",
       "    }\n",
       "\n",
       "    .dataframe tbody tr th {\n",
       "        vertical-align: top;\n",
       "    }\n",
       "\n",
       "    .dataframe thead th {\n",
       "        text-align: right;\n",
       "    }\n",
       "</style>\n",
       "<table border=\"1\" class=\"dataframe\">\n",
       "  <thead>\n",
       "    <tr style=\"text-align: right;\">\n",
       "      <th></th>\n",
       "      <th>WS50M</th>\n",
       "      <th>PS</th>\n",
       "      <th>WS10M</th>\n",
       "      <th>QV2M</th>\n",
       "      <th>TS</th>\n",
       "      <th>T2M</th>\n",
       "      <th>CLRSKY_SFC_PAR_TOT</th>\n",
       "      <th>ALLSKY_SFC_PAR_TOT</th>\n",
       "      <th>CLRSKY_SFC_SW_DWN</th>\n",
       "      <th>ALLSKY_SFC_LW_DWN</th>\n",
       "      <th>ALLSKY_SFC_SW_DWN</th>\n",
       "    </tr>\n",
       "  </thead>\n",
       "  <tbody>\n",
       "    <tr>\n",
       "      <th>2941</th>\n",
       "      <td>3.74</td>\n",
       "      <td>74.75</td>\n",
       "      <td>2.51</td>\n",
       "      <td>6.35</td>\n",
       "      <td>10.30</td>\n",
       "      <td>9.52</td>\n",
       "      <td>101.82</td>\n",
       "      <td>97.16</td>\n",
       "      <td>5.65</td>\n",
       "      <td>276.69</td>\n",
       "      <td>5.43</td>\n",
       "    </tr>\n",
       "    <tr>\n",
       "      <th>7289</th>\n",
       "      <td>2.85</td>\n",
       "      <td>74.46</td>\n",
       "      <td>1.71</td>\n",
       "      <td>6.84</td>\n",
       "      <td>12.00</td>\n",
       "      <td>11.80</td>\n",
       "      <td>90.56</td>\n",
       "      <td>78.72</td>\n",
       "      <td>5.13</td>\n",
       "      <td>282.09</td>\n",
       "      <td>4.47</td>\n",
       "    </tr>\n",
       "    <tr>\n",
       "      <th>1443</th>\n",
       "      <td>4.77</td>\n",
       "      <td>74.93</td>\n",
       "      <td>3.55</td>\n",
       "      <td>6.35</td>\n",
       "      <td>7.35</td>\n",
       "      <td>6.75</td>\n",
       "      <td>95.33</td>\n",
       "      <td>54.34</td>\n",
       "      <td>5.24</td>\n",
       "      <td>303.95</td>\n",
       "      <td>2.94</td>\n",
       "    </tr>\n",
       "    <tr>\n",
       "      <th>3664</th>\n",
       "      <td>2.16</td>\n",
       "      <td>74.74</td>\n",
       "      <td>1.45</td>\n",
       "      <td>5.92</td>\n",
       "      <td>8.80</td>\n",
       "      <td>7.76</td>\n",
       "      <td>99.99</td>\n",
       "      <td>84.68</td>\n",
       "      <td>5.57</td>\n",
       "      <td>285.27</td>\n",
       "      <td>4.74</td>\n",
       "    </tr>\n",
       "    <tr>\n",
       "      <th>4291</th>\n",
       "      <td>3.49</td>\n",
       "      <td>74.42</td>\n",
       "      <td>2.12</td>\n",
       "      <td>10.56</td>\n",
       "      <td>14.72</td>\n",
       "      <td>13.98</td>\n",
       "      <td>121.74</td>\n",
       "      <td>79.61</td>\n",
       "      <td>6.70</td>\n",
       "      <td>343.31</td>\n",
       "      <td>4.29</td>\n",
       "    </tr>\n",
       "  </tbody>\n",
       "</table>\n",
       "</div>"
      ],
      "text/plain": [
       "      WS50M     PS  WS10M   QV2M     TS    T2M  CLRSKY_SFC_PAR_TOT  \\\n",
       "2941   3.74  74.75   2.51   6.35  10.30   9.52              101.82   \n",
       "7289   2.85  74.46   1.71   6.84  12.00  11.80               90.56   \n",
       "1443   4.77  74.93   3.55   6.35   7.35   6.75               95.33   \n",
       "3664   2.16  74.74   1.45   5.92   8.80   7.76               99.99   \n",
       "4291   3.49  74.42   2.12  10.56  14.72  13.98              121.74   \n",
       "\n",
       "      ALLSKY_SFC_PAR_TOT  CLRSKY_SFC_SW_DWN  ALLSKY_SFC_LW_DWN  \\\n",
       "2941               97.16               5.65             276.69   \n",
       "7289               78.72               5.13             282.09   \n",
       "1443               54.34               5.24             303.95   \n",
       "3664               84.68               5.57             285.27   \n",
       "4291               79.61               6.70             343.31   \n",
       "\n",
       "      ALLSKY_SFC_SW_DWN  \n",
       "2941               5.43  \n",
       "7289               4.47  \n",
       "1443               2.94  \n",
       "3664               4.74  \n",
       "4291               4.29  "
      ]
     },
     "execution_count": 6,
     "metadata": {},
     "output_type": "execute_result"
    }
   ],
   "source": [
    "X_train.head()"
   ]
  },
  {
   "cell_type": "code",
   "execution_count": 7,
   "id": "baf62934",
   "metadata": {},
   "outputs": [],
   "source": [
    "#set up model parameter\n",
    "params_xgb = {'objective': 'reg:squarederror','n_estimators': 2000,  'max_depth':5,'reg_alpha': 0,'reg_lambda': 1,}\n"
   ]
  },
  {
   "cell_type": "code",
   "execution_count": 8,
   "id": "f0b09537",
   "metadata": {},
   "outputs": [
    {
     "name": "stderr",
     "output_type": "stream",
     "text": [
      "/Users/jiandanqingche/opt/anaconda3/envs/keras/lib/python3.9/site-packages/xgboost/data.py:250: FutureWarning: pandas.Int64Index is deprecated and will be removed from pandas in a future version. Use pandas.Index with the appropriate dtype instead.\n",
      "  elif isinstance(data.columns, (pd.Int64Index, pd.RangeIndex)):\n"
     ]
    },
    {
     "data": {
      "text/plain": [
       "XGBRegressor(base_score=0.5, booster='gbtree', colsample_bylevel=1,\n",
       "             colsample_bynode=1, colsample_bytree=1, enable_categorical=False,\n",
       "             gamma=0, gpu_id=-1, importance_type=None,\n",
       "             interaction_constraints='', learning_rate=0.300000012,\n",
       "             max_delta_step=0, max_depth=5, min_child_weight=1, missing=nan,\n",
       "             monotone_constraints='()', n_estimators=2000, n_jobs=8,\n",
       "             num_parallel_tree=1, predictor='auto', random_state=0, reg_alpha=0,\n",
       "             reg_lambda=1, scale_pos_weight=1, subsample=1, tree_method='exact',\n",
       "             validate_parameters=1, verbosity=None)"
      ]
     },
     "execution_count": 8,
     "metadata": {},
     "output_type": "execute_result"
    }
   ],
   "source": [
    "#建模\n",
    "model = xgb.XGBRegressor(**params_xgb)\n",
    "model.fit(X_train,Y_train)"
   ]
  },
  {
   "cell_type": "code",
   "execution_count": 9,
   "id": "34521865",
   "metadata": {},
   "outputs": [
    {
     "data": {
      "image/png": "[encoded data removed]",
      "text/plain": [
       "<Figure size 640x480 with 1 Axes>"
      ]
     },
     "metadata": {},
     "output_type": "display_data"
    }
   ],
   "source": [
    "Y_pred = model.predict(X_test)\n",
    "\n",
    "plt.scatter(Y_pred, Y_test)\n",
    "plt.xlabel('Predicted Values')\n",
    "plt.ylabel('True Values')\n",
    "plt.xlim(plt.xlim())\n",
    "plt.ylim(plt.ylim())\n",
    "_=plt.plot([-100,100],[-100,100])"
   ]
  },
  {
   "cell_type": "code",
   "execution_count": 10,
   "id": "fe2759c7",
   "metadata": {},
   "outputs": [
    {
     "name": "stdout",
     "output_type": "stream",
     "text": [
      "The score is 4.00306\n"
     ]
    }
   ],
   "source": [
    "MSE = mean_squared_error(Y_test, Y_pred)\n",
    "print(\"The score is %.5f\" % MSE )"
   ]
  },
  {
   "cell_type": "code",
   "execution_count": 11,
   "id": "4f855a12",
   "metadata": {},
   "outputs": [
    {
     "data": {
      "image/png": "[encoded data removed]",
      "text/plain": [
       "<Figure size 640x480 with 1 Axes>"
      ]
     },
     "metadata": {},
     "output_type": "display_data"
    }
   ],
   "source": [
    "# histogram\n",
    "error = Y_pred.reshape(3068,1)- Y_test\n",
    "plt.hist(error,bins = 100)\n",
    "plt.xlabel(\"Prediction Error\")\n",
    "plt.ylabel(\"Count\")\n",
    "_=plt.ylabel(\"Count\")"
   ]
  },
  {
   "cell_type": "code",
   "execution_count": 12,
   "id": "b3f42d1e",
   "metadata": {},
   "outputs": [
    {
     "data": {
      "text/plain": [
       "0.6262138759772766"
      ]
     },
     "execution_count": 12,
     "metadata": {},
     "output_type": "execute_result"
    }
   ],
   "source": [
    "r2_score(Y_test,Y_pred) "
   ]
  },
  {
   "cell_type": "code",
   "execution_count": 13,
   "id": "cd8a001d",
   "metadata": {},
   "outputs": [
    {
     "name": "stdout",
     "output_type": "stream",
     "text": [
      "MAE: 1.1238735890925184\n"
     ]
    }
   ],
   "source": [
    "print('MAE:',metrics.mean_absolute_error(Y_test,Y_pred))"
   ]
  },
  {
   "cell_type": "code",
   "execution_count": 14,
   "id": "ea008482",
   "metadata": {},
   "outputs": [
    {
     "name": "stdout",
     "output_type": "stream",
     "text": [
      "4.003060421675857\n"
     ]
    }
   ],
   "source": [
    "mse = mean_squared_error(Y_test, Y_pred)\n",
    "print(mse)"
   ]
  },
  {
   "cell_type": "code",
   "execution_count": 15,
   "id": "b2ec0fb1",
   "metadata": {},
   "outputs": [],
   "source": [
    "\n",
    "def plot_feature_importance(importance, names):\n",
    "    '''\n",
    "    this code is from here: \n",
    "    https://www.analyseup.com/learn-python-for-data-science/python-random-forest-feature-importance-plot.html\n",
    "    '''\n",
    "    #Create arrays from feature importance and feature names\n",
    "    feature_importance = np.array(importance)\n",
    "    feature_names = np.array(names)\n",
    "\n",
    "    #Create a DataFrame using a Dictionary\n",
    "    data={'feature_names':feature_names,'feature_importance':feature_importance}\n",
    "    fi_df = pd.DataFrame(data)\n",
    "\n",
    "    #Sort the DataFrame in order decreasing feature importance\n",
    "    fi_df.sort_values(by=['feature_importance'], ascending=False,inplace=True)\n",
    "\n",
    "    #Define size of bar plot\n",
    "    plt.figure(figsize=(10,8))\n",
    "    #Plot Searborn bar chart\n",
    "    sns.barplot(x=fi_df['feature_importance'], y=fi_df['feature_names'])\n",
    "    #Add chart labels\n",
    "    plt.title('FEATURE IMPORTANCE')\n",
    "    plt.xlabel('FEATURE IMPORTANCE')\n",
    "    plt.ylabel('FEATURE NAMES')"
   ]
  },
  {
   "cell_type": "code",
   "execution_count": 16,
   "id": "28eb7be7",
   "metadata": {},
   "outputs": [
    {
     "data": {
      "image/png": "[encoded data removed]",
      "text/plain": [
       "<Figure size 1000x800 with 1 Axes>"
      ]
     },
     "metadata": {},
     "output_type": "display_data"
    }
   ],
   "source": [
    "plot_feature_importance(model.feature_importances_, X.columns)"
   ]
  },
  {
   "cell_type": "code",
   "execution_count": null,
   "id": "e6eacaea",
   "metadata": {},
   "outputs": [],
   "source": []
  }
 ],
 "metadata": {
  "kernelspec": {
   "display_name": "keras",
   "language": "python",
   "name": "keras"
  },
  "language_info": {
   "codemirror_mode": {
    "name": "ipython",
    "version": 3
   },
   "file_extension": ".py",
   "mimetype": "text/x-python",
   "name": "python",
   "nbconvert_exporter": "python",
   "pygments_lexer": "ipython3",
   "version": "3.9.13"
  }
 },
 "nbformat": 4,
 "nbformat_minor": 5
}
